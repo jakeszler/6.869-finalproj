{
 "cells": [
  {
   "cell_type": "markdown",
   "metadata": {},
   "source": [
    "# OpenCV Overlay - Build Your Own (Tracking Example)"
   ]
  },
  {
   "cell_type": "markdown",
   "metadata": {},
   "source": [
    "In this notebook, you will be given an overlay which contains a number of accelerator cores and the goal is to leverage those cores to accelerate a custom design of your own. This overlay contains the following accelerator cores:\n",
    "* Gaussian Blur (2D filter)\n",
    "* Dilate\n",
    "\n",
    "There are many creative ways to utilize these accelerator blocks in your custom vision processing design. The goal is to develop an algorithm, profile the design and see if the available overlay blocks can help speed up the pain points in the design. \n",
    "To provide a different real example of this process, this notebook uses a tracking design developed by Adam Taylor an posted on http://www.hackster.io. "
   ]
  },
  {
   "cell_type": "markdown",
   "metadata": {},
   "source": [
    "## Program overlay\n",
    "\n",
    "Here we program the overlay on the FPGA, load the associated overlay library and load the PYNQ xlnk memory manager library."
   ]
  },
  {
   "cell_type": "code",
   "execution_count": null,
   "metadata": {},
   "outputs": [],
   "source": [
    "import cv2 #NOTE: This needs to be loaded first\n",
    "\n",
    "# Load filter2D + dilate overlay\n",
    "from pynq import Overlay\n",
    "bs = Overlay(\"/usr/local/lib/python3.6/dist-packages/pynq_cv/overlays/xv2Filter2DDilateAbsdiff.bit\")\n",
    "bs.download()\n",
    "import pynq_cv.overlays.xv2Filter2DDilateAbsdiff as xv2\n",
    "\n",
    "# Load xlnk memory mangager\n",
    "from pynq import Xlnk\n",
    "Xlnk.set_allocator_library('/usr/local/lib/python3.6/dist-packages/pynq_cv/overlays/xv2Filter2DDilateAbsdiff.so')\n",
    "mem_manager = Xlnk()"
   ]
  },
  {
   "cell_type": "markdown",
   "metadata": {},
   "source": [
    "## Setup and configure USB camera \n",
    "\n",
    "We use OpenCV (cv2) for capturing frames from a USB camera and to process those image frames. Here, we start by setting up the interface to the USB camera and configuring its resolution (1080p)."
   ]
  },
  {
   "cell_type": "code",
   "execution_count": null,
   "metadata": {},
   "outputs": [],
   "source": [
    "import cv2\n",
    "\n",
    "camera = cv2.VideoCapture(0)\n",
    "\n",
    "width = 1920\n",
    "height = 1080\n",
    "camera.set(cv2.CAP_PROP_FRAME_WIDTH,width)\n",
    "camera.set(cv2.CAP_PROP_FRAME_HEIGHT,height)"
   ]
  },
  {
   "cell_type": "markdown",
   "metadata": {},
   "source": [
    "Set up IPython based imshow call which encode OpenCV image data to jpeg before displaying it in the notebook. Other methods of displaying image data would perform similar conversions as well."
   ]
  },
  {
   "cell_type": "code",
   "execution_count": null,
   "metadata": {},
   "outputs": [],
   "source": [
    "import IPython\n",
    "\n",
    "def imshow(img):\n",
    "    returnValue, buffer = cv2.imencode('.jpg',img)\n",
    "    IPython.display.display(IPython.display.Image(data=buffer.tobytes()))\n",
    "\n",
    "def imwrite(img, name):\n",
    "    returnValue, buffer = cv2.imencode('.jpg',img)\n",
    "    cv2.imwrite(name,buffer)"
   ]
  },
  {
   "cell_type": "markdown",
   "metadata": {},
   "source": [
    "## Run SW Algorithm"
   ]
  },
  {
   "cell_type": "code",
   "execution_count": null,
   "metadata": {},
   "outputs": [],
   "source": [
    "%%prun -s tottime -q -l 20 -T prunSW\n",
    "#%%prun -s cumulative -q -l 20 -T prunSW\n",
    "import numpy as np\n",
    "import time\n",
    "\n",
    "# Read reference frame (assumes camera and scene remains stationary)\n",
    "ret, frame_in = camera.read()\n",
    "if (not ret):\n",
    "    # Release the Video Device if ret is false\n",
    "    camera.release()\n",
    "    # Message to be displayed after releasing the device\n",
    "    print(\"Release camera resource\")\n",
    "else:\n",
    "    img_gray       = cv2.cvtColor(frame_in, cv2.COLOR_BGR2GRAY)\n",
    "    reference_blur = cv2.GaussianBlur(img_gray, (5,5), 0)\n",
    "\n",
    "num_frames = 15\n",
    "\n",
    "start = time.time()\n",
    "for _ in range(num_frames):\n",
    "    ret, frame_in = camera.read()\n",
    "    if (not ret):\n",
    "        # Release the Video Device if ret is false\n",
    "        camera.release()\n",
    "        # Message to be displayed after releasing the device\n",
    "        print(\"Release camera resource\")\n",
    "        break\n",
    "    else:\n",
    "        img_gray          = cv2.cvtColor(frame_in, cv2.COLOR_BGR2GRAY)\n",
    "        blur              = cv2.GaussianBlur(img_gray, (5,5), 0)\n",
    "        difference        = cv2.absdiff(reference_blur, blur)\n",
    "        _, threshold      = cv2.threshold(difference, 25, 255, cv2.THRESH_BINARY)[:]\n",
    "        dilated           = cv2.dilate(threshold, None, iterations=2)\n",
    "        _, contours, heir = cv2.findContours(dilated.copy(), cv2.RETR_EXTERNAL, cv2.CHAIN_APPROX_SIMPLE)\n",
    "        for i in contours:\n",
    "            #if cv2.contourArea(i) < 2000:\n",
    "            if cv2.contourArea(i) < 3000:\n",
    "                continue\n",
    "            (x,y,w,h) = cv2.boundingRect(i)\n",
    "            cv2.rectangle(frame_in, (x,y), (x+w,y+h),(0,0,255),2)\n",
    "            #outframe[0:height,0:width:] = frame_in[0:height,0:width,:]\n",
    "    imshow(frame_in)\n",
    "    IPython.display.clear_output(wait=True)    \n",
    "time_sw_total = time.time() - start\n",
    "print(\"frames per second; \" + str(num_frames/time_sw_total))"
   ]
  },
  {
   "cell_type": "code",
   "execution_count": null,
   "metadata": {},
   "outputs": [],
   "source": [
    "print(open('prunSW','r').read())\n",
    "res = !cat prunSW | grep GaussianBlur | awk '{{print $$2}}'\n",
    "tottime_sw_blur = float(res[0])\n",
    "res = !cat prunSW | grep dilate | awk '{{print $$2}}'\n",
    "tottime_sw_dilate = float(res[0])\n",
    "res = !cat prunSW | grep absdiff | awk '{{print $$2}}'\n",
    "tottime_sw_absdiff = float(res[0])"
   ]
  },
  {
   "cell_type": "markdown",
   "metadata": {},
   "source": [
    "## Run HW Acceleration"
   ]
  },
  {
   "cell_type": "code",
   "execution_count": null,
   "metadata": {
    "scrolled": false
   },
   "outputs": [],
   "source": [
    "%%prun -s tottime -q -l 20 -T prunHW\n",
    "#%%prun -s cumulative -q -l 20 -T prunSW\n",
    "import numpy as np\n",
    "import time\n",
    "\n",
    "kernelG    = np.array([[0.0625,0.125,0.0625],[0.125,0.25,0.125],[0.0625,0.125,0.0625]],np.float32) #gaussian blur  \n",
    "kernelD    = np.ones((3,3),np.uint8)\n",
    "kernelVoid = np.zeros(0)\n",
    "reference_blur = np.ones((height,width),np.uint8)\n",
    "threshold       = np.ones((height,width),np.uint8)\n",
    "dilated    = np.ones((height,width),np.uint8)\n",
    "frame_out  = np.ones((height,width),np.uint8)\n",
    "xFin       = mem_manager.cma_array((height,width),np.uint8)\n",
    "xFblur     = mem_manager.cma_array((height,width),np.uint8)\n",
    "xFdiff     = mem_manager.cma_array((height,width),np.uint8)\n",
    "xFout      = mem_manager.cma_array((height,width),np.uint8)\n",
    "\n",
    "# Read reference frame (assumes camera and scene remains stationary)\n",
    "ret, frame_in = camera.read()\n",
    "if (not ret):\n",
    "    # Release the Video Device if ret is false\n",
    "    camera.release()\n",
    "    # Message to be displayed after releasing the device\n",
    "    print(\"Release camera resource\")\n",
    "else:\n",
    "    img_gray       = cv2.cvtColor(frame_in, cv2.COLOR_BGR2GRAY)\n",
    "    reference_blur = cv2.GaussianBlur(img_gray, (5,5), 0)\n",
    "\n",
    "\n",
    "num_frames = 15\n",
    "\n",
    "start = time.time()\n",
    "for _ in range(num_frames):\n",
    "    ret, frame_in = camera.read()\n",
    "    if (not ret):\n",
    "        # Release the Video Device if ret is false\n",
    "        camera.release()\n",
    "        # Message to be displayed after releasing the device\n",
    "        print(\"Release camera resource\")\n",
    "        break\n",
    "    else:\n",
    "        frame_in_gray     = cv2.cvtColor(frame_in, cv2.COLOR_BGR2GRAY)\n",
    "        xv2.filter2D(frame_in_gray, -1, kernelG, xFblur, borderType=cv2.BORDER_CONSTANT) #Gaussian blur\n",
    "        xv2.absdiff(reference_blur, xFblur,xFdiff)\n",
    "        cv2.threshold(xFdiff, 25, 255, cv2.THRESH_BINARY,threshold)\n",
    "        xv2.dilate(threshold, kernelVoid, xFout, borderType=cv2.BORDER_CONSTANT)\n",
    "        dilated[:]        = xFout[:]\n",
    "        _, contours, heir = cv2.findContours(dilated.copy(), cv2.RETR_EXTERNAL, cv2.CHAIN_APPROX_SIMPLE)\n",
    "        for i in contours:\n",
    "            if cv2.contourArea(i) < 3000:\n",
    "                continue\n",
    "            (x,y,w,h) = cv2.boundingRect(i)\n",
    "            cv2.rectangle(frame_in, (x,y), (x+w,y+h),(0,0,255),2)\n",
    "    imshow(frame_in)\n",
    "    IPython.display.clear_output(wait=True)    \n",
    "time_hw_total = time.time() - start\n",
    "print(\"frames per second; \" + str(num_frames/time_hw_total))"
   ]
  },
  {
   "cell_type": "code",
   "execution_count": null,
   "metadata": {
    "scrolled": false
   },
   "outputs": [],
   "source": [
    "print(open('prunHW','r').read())\n",
    "res = !cat prunHW | grep filter2D | awk '{{print $$2}}'\n",
    "tottime_hw_blur = float(res[0])\n",
    "res = !cat prunHW | grep dilate | awk '{{print $$2}}'\n",
    "tottime_hw_dilate = float(res[0])\n",
    "res = !cat prunHW | grep absdiff | awk '{{print $$2}}'\n",
    "tottime_hw_absdiff = float(res[0])"
   ]
  },
  {
   "cell_type": "markdown",
   "metadata": {},
   "source": [
    "## Plot performance\n",
    "In addition to having easy access to OpenCV functions, we can access functions from pyPlot for plotting results in graphs and charts. Here, we take the recorded time data and plot out the processing times in a bar chart along with computed FPS of each function. Pay particular attention to the actual performance of each function and note the effect when placing two functions back-to-back in this example."
   ]
  },
  {
   "cell_type": "code",
   "execution_count": null,
   "metadata": {},
   "outputs": [],
   "source": [
    "%matplotlib inline\n",
    "from matplotlib import pyplot as plt\n",
    "\n",
    "TIME_SW   = [t*1000/num_frames for (t) in (time_sw_total, tottime_sw_dilate, tottime_sw_blur, tottime_sw_absdiff)]\n",
    "FPS_SW    = [1000/t for (t) in (TIME_SW)]\n",
    "TIME_HW   = [t*1000/num_frames for (t) in (time_hw_total, tottime_hw_dilate, tottime_hw_blur, tottime_hw_absdiff)]\n",
    "FPS_HW    = [1000/t for (t) in (TIME_HW)]\n",
    "LABELS    = ['Total','Dilate','Gaussian Blur(Filter2D)', 'Absdiff']\n",
    "\n",
    "f, (ax1, ax2) = plt.subplots(2, 1, sharex='col', sharey='row', figsize=(7,4))\n",
    "x_pos = np.arange(len(LABELS))\n",
    "plt.yticks(x_pos, LABELS)\n",
    "\n",
    "ax1.barh(x_pos, FPS_SW, height=0.6, color='g', zorder=4)\n",
    "ax1.invert_yaxis()\n",
    "ax1.set_xlabel(\"Frames per second\")\n",
    "ax1.set_ylabel(\"Kernel (SW)\")\n",
    "ax1.tick_params(axis='x',labelleft=1)\n",
    "ax1.grid(zorder=0)\n",
    "\n",
    "ax2.barh(x_pos, FPS_HW, height=0.6, color='b', zorder=4)\n",
    "ax2.invert_yaxis()\n",
    "ax2.set_xlabel(\"Frames per second\")\n",
    "ax2.set_ylabel(\"Kernel (HW)\")\n",
    "ax2.grid(zorder=0)\n",
    "\n",
    "plt.show()"
   ]
  },
  {
   "cell_type": "markdown",
   "metadata": {},
   "source": [
    "## Release up USB camera\n",
    "\n",
    "NOTE: This is needed to close the camera between subsequent runs. If the camera is unable to read a frame, be sure to call camera.release() and then try opening the VideoCapture again."
   ]
  },
  {
   "cell_type": "code",
   "execution_count": null,
   "metadata": {},
   "outputs": [],
   "source": [
    "camera.release()"
   ]
  },
  {
   "cell_type": "markdown",
   "metadata": {},
   "source": [
    "<font color=red size=4>IMPORTANT NOTE</font>: Be sure to run the cell below, shutting down the notebook, before starting a new one. The notebook interface shows \"No Kernel\", the cell below will incorrectly show a running status [ * ]. You can ignore this an safely close the tab of the notebook."
   ]
  },
  {
   "cell_type": "code",
   "execution_count": null,
   "metadata": {},
   "outputs": [],
   "source": [
    "%%javascript\n",
    "Jupyter.notebook.session.delete();"
   ]
  },
  {
   "cell_type": "code",
   "execution_count": null,
   "metadata": {},
   "outputs": [],
   "source": []
  }
 ],
 "metadata": {
  "kernelspec": {
   "display_name": "Python 3",
   "language": "python",
   "name": "python3"
  },
  "language_info": {
   "codemirror_mode": {
    "name": "ipython",
    "version": 3
   },
   "file_extension": ".py",
   "mimetype": "text/x-python",
   "name": "python",
   "nbconvert_exporter": "python",
   "pygments_lexer": "ipython3",
   "version": "3.6.5"
  }
 },
 "nbformat": 4,
 "nbformat_minor": 2
}
